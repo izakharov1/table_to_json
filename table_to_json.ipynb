{
 "cells": [
  {
   "cell_type": "markdown",
   "id": "f9fd27b9-30f8-4e06-96d3-c433ab8021d6",
   "metadata": {},
   "source": [
    "In this example we want to convert our tables to json schemas.\n",
    "It should move us forward into preparing good culture of our models json schema reflection.\n",
    "We could validate the data and provide documentation based on this data."
   ]
  },
  {
   "cell_type": "code",
   "execution_count": null,
   "id": "0b3e88d7-7caf-44c5-9db1-983afb808a56",
   "metadata": {
    "scrolled": true
   },
   "outputs": [],
   "source": [
    "%pip install openai"
   ]
  },
  {
   "cell_type": "code",
   "execution_count": 121,
   "id": "2d5e6aa0-3ccd-4ba5-ab0f-0fabbfc71a48",
   "metadata": {},
   "outputs": [],
   "source": [
    "# Importing the necessary Python libraries\n",
    "import os\n",
    "import re\n",
    "import json\n",
    "import yaml\n",
    "import openai\n",
    "import time"
   ]
  },
  {
   "cell_type": "code",
   "execution_count": 4,
   "id": "057c484c-b37f-448b-9457-5df55fa123d8",
   "metadata": {},
   "outputs": [],
   "source": [
    "# Loading the API key and organization ID from file (NOT pushed to GitHub)\n",
    "with open('../keys/openai_creds.yaml') as f:\n",
    "    keys_yaml = yaml.safe_load(f)\n",
    "\n",
    "# Applying our API key and organization ID to OpenAI\n",
    "openai.organization = keys_yaml['ORG_ID']\n",
    "openai.api_key = keys_yaml['API_KEY']\n",
    "os.environ['OPENAI_API_KEY'] = keys_yaml['API_KEY']"
   ]
  },
  {
   "cell_type": "code",
   "execution_count": null,
   "id": "a41423b5-9801-4243-b70b-766dc5152706",
   "metadata": {
    "scrolled": true
   },
   "outputs": [],
   "source": [
    "# Find all tables\n",
    "# Loading the SQL Structure text from local file\n",
    "with open('../schemas/structure.sql', 'r') as f:\n",
    "    sql_structure = f.read()\n",
    "\n",
    "print(sql_structure)"
   ]
  },
  {
   "cell_type": "code",
   "execution_count": 64,
   "id": "fbc3601c-fe3d-4dab-b7b3-0c5bc1ae882a",
   "metadata": {},
   "outputs": [],
   "source": [
    "# Searching for all tables in sql structure\n",
    "table_patterns = re.findall(r'CREATE TABLE ([\\w\\.]+) \\(([\\s\\S]*?)\\)\\;', sql_structure)"
   ]
  },
  {
   "cell_type": "code",
   "execution_count": null,
   "id": "386397ee-07e0-4a5b-8dba-b22b97b4ac17",
   "metadata": {},
   "outputs": [],
   "source": [
    "# Engineering a prompt to extract table information from structure as a JSON object\n",
    "prompt = f'''\n",
    "You are the most talented engineer with more than half of century of experience. \n",
    "Please extract information from the sql structure provided and convert it to a JSON schema object.\n",
    "\n",
    "This is the body of text to extract the information from:\n",
    "\n",
    "table name: {table_name}\n",
    "\n",
    "table fields: {table_fields}\n",
    "'''"
   ]
  },
  {
   "cell_type": "code",
   "execution_count": null,
   "id": "75b9d115-a9b2-425e-a3a2-d4f25f2920dc",
   "metadata": {},
   "outputs": [],
   "source": [
    "def get_prompt(table_name, table_fields):\n",
    "    return f'''\n",
    "    You are the most talented engineer with more than half of century of experience. \n",
    "    Please extract information from the sql structure provided and convert it to a JSON schema object.\n",
    "    Please write description for every field if it's possible to understand from the context.\n",
    "    The root key of the json schema should be table name.\n",
    "    Please strictly stick to OpenApi schema structure.\n",
    "    Assume that all the fields are required by default.\n",
    "    This is the body of text to extract the information from:\n",
    "    \n",
    "    table name: {table_name}\n",
    "    \n",
    "    table fields: {table_fields}\n",
    "    '''"
   ]
  },
  {
   "cell_type": "code",
   "execution_count": null,
   "id": "85a07681-af14-44f7-9611-9a66ec5c3af9",
   "metadata": {},
   "outputs": [],
   "source": [
    "def chatgpt_call(prompt):\n",
    "    return openai.ChatCompletion.create(\n",
    "        model = 'gpt-3.5-turbo',\n",
    "        messages = [{'role': 'user', 'content': prompt}]\n",
    "    )"
   ]
  },
  {
   "cell_type": "code",
   "execution_count": null,
   "id": "63f3036b-c3a2-4937-b4a5-3ca6223cabcb",
   "metadata": {},
   "outputs": [],
   "source": [
    "def write_json_to_file(json_response, filename='output.json'):\n",
    "    try:\n",
    "        # Write the parsed JSON back to the file\n",
    "        with open(filename, 'w') as file:\n",
    "            json.dump(json_response, file, indent=4)\n",
    "        \n",
    "        print(f\"Data successfully written to {filename}\")\n",
    "\n",
    "    except json.JSONDecodeError:\n",
    "        print(\"Error: The provided string is not valid JSON.\")\n"
   ]
  },
  {
   "cell_type": "code",
   "execution_count": null,
   "id": "1a82336d-25cf-4218-ac69-a633aa0bfc38",
   "metadata": {
    "scrolled": true
   },
   "outputs": [],
   "source": [
    "# for table_pattern in table_patterns:\n",
    "for table_pattern in table_patterns[:5]:\n",
    "    # Table name group\n",
    "    table_name = table_pattern[0]\n",
    "    # Field names group\n",
    "    table_fields = table_pattern[1]\n",
    "\n",
    "    prompt = get_prompt(table_name, table_fields)\n",
    "\n",
    "    chatgpt_response = chatgpt_call(prompt)\n",
    "    \n",
    "    # Loading the response as a JSON object\n",
    "    json_response = json.loads(chatgpt_response['choices'][0]['message']['content'])\n",
    "\n",
    "    path = os.path.join(\"schemas/jsons/\", table_name.replace('.', '_') + \".json\")\n",
    "\n",
    "    write_json_to_file(json_response, path)\n",
    "\n",
    "    time.sleep(0.5)"
   ]
  }
 ],
 "metadata": {
  "kernelspec": {
   "display_name": "Python 3 (ipykernel)",
   "language": "python",
   "name": "python3"
  },
  "language_info": {
   "codemirror_mode": {
    "name": "ipython",
    "version": 3
   },
   "file_extension": ".py",
   "mimetype": "text/x-python",
   "name": "python",
   "nbconvert_exporter": "python",
   "pygments_lexer": "ipython3",
   "version": "3.9.6"
  }
 },
 "nbformat": 4,
 "nbformat_minor": 5
}
